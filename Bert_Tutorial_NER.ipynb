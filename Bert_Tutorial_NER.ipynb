{
  "nbformat": 4,
  "nbformat_minor": 0,
  "metadata": {
    "colab": {
      "name": "Bert_Tutorial_NER.ipynb",
      "version": "0.3.2",
      "provenance": [],
      "collapsed_sections": [],
      "include_colab_link": true
    },
    "kernelspec": {
      "name": "python3",
      "display_name": "Python 3"
    },
    "accelerator": "GPU"
  },
  "cells": [
    {
      "cell_type": "markdown",
      "metadata": {
        "id": "view-in-github",
        "colab_type": "text"
      },
      "source": [
        "<a href=\"https://colab.research.google.com/github/trongthanhptnk/Dilated_Res_Attention_LSTM/blob/master/Bert_Tutorial_NER.ipynb\" target=\"_parent\"><img src=\"https://colab.research.google.com/assets/colab-badge.svg\" alt=\"Open In Colab\"/></a>"
      ]
    },
    {
      "cell_type": "code",
      "metadata": {
        "id": "MivVdIya5gnH",
        "colab_type": "code",
        "colab": {
          "base_uri": "https://localhost:8080/",
          "height": 51
        },
        "outputId": "e7f7dcc9-92b3-4d2c-dbad-5d471bd8396b"
      },
      "source": [
        "# In this notebook, I would like to work with BERT API.\n",
        "\n",
        "#Import libraries:\n",
        "import numpy as np\n",
        "import pandas as pd\n",
        "from tqdm import tqdm, trange\n",
        "# Code to read csv file into Colaboratory:\n",
        "!pip install -U -q PyDrive\n",
        "from pydrive.auth import GoogleAuth\n",
        "from pydrive.drive import GoogleDrive\n",
        "from google.colab import auth\n",
        "from oauth2client.client import GoogleCredentials\n",
        "# Authenticate and create the PyDrive client.\n",
        "auth.authenticate_user()\n",
        "gauth = GoogleAuth()\n",
        "gauth.credentials = GoogleCredentials.get_application_default()\n",
        "drive = GoogleDrive(gauth)"
      ],
      "execution_count": 4,
      "outputs": [
        {
          "output_type": "stream",
          "text": [
            "\u001b[?25l\r\u001b[K     |▎                               | 10kB 26.2MB/s eta 0:00:01\r\u001b[K     |▋                               | 20kB 29.0MB/s eta 0:00:01\r\u001b[K     |█                               | 30kB 34.1MB/s eta 0:00:01\r\u001b[K     |█▎                              | 40kB 38.2MB/s eta 0:00:01\r\u001b[K     |█▋                              | 51kB 40.2MB/s eta 0:00:01\r\u001b[K     |██                              | 61kB 43.7MB/s eta 0:00:01\r\u001b[K     |██▎                             | 71kB 44.1MB/s eta 0:00:01\r\u001b[K     |██▋                             | 81kB 44.6MB/s eta 0:00:01\r\u001b[K     |███                             | 92kB 46.7MB/s eta 0:00:01\r\u001b[K     |███▎                            | 102kB 45.8MB/s eta 0:00:01\r\u001b[K     |███▋                            | 112kB 45.8MB/s eta 0:00:01\r\u001b[K     |████                            | 122kB 45.8MB/s eta 0:00:01\r\u001b[K     |████▎                           | 133kB 45.8MB/s eta 0:00:01\r\u001b[K     |████▋                           | 143kB 45.8MB/s eta 0:00:01\r\u001b[K     |█████                           | 153kB 45.8MB/s eta 0:00:01\r\u001b[K     |█████▎                          | 163kB 45.8MB/s eta 0:00:01\r\u001b[K     |█████▋                          | 174kB 45.8MB/s eta 0:00:01\r\u001b[K     |██████                          | 184kB 45.8MB/s eta 0:00:01\r\u001b[K     |██████▎                         | 194kB 45.8MB/s eta 0:00:01\r\u001b[K     |██████▋                         | 204kB 45.8MB/s eta 0:00:01\r\u001b[K     |███████                         | 215kB 45.8MB/s eta 0:00:01\r\u001b[K     |███████▎                        | 225kB 45.8MB/s eta 0:00:01\r\u001b[K     |███████▋                        | 235kB 45.8MB/s eta 0:00:01\r\u001b[K     |████████                        | 245kB 45.8MB/s eta 0:00:01\r\u001b[K     |████████▎                       | 256kB 45.8MB/s eta 0:00:01\r\u001b[K     |████████▋                       | 266kB 45.8MB/s eta 0:00:01\r\u001b[K     |█████████                       | 276kB 45.8MB/s eta 0:00:01\r\u001b[K     |█████████▎                      | 286kB 45.8MB/s eta 0:00:01\r\u001b[K     |█████████▋                      | 296kB 45.8MB/s eta 0:00:01\r\u001b[K     |██████████                      | 307kB 45.8MB/s eta 0:00:01\r\u001b[K     |██████████▎                     | 317kB 45.8MB/s eta 0:00:01\r\u001b[K     |██████████▋                     | 327kB 45.8MB/s eta 0:00:01\r\u001b[K     |███████████                     | 337kB 45.8MB/s eta 0:00:01\r\u001b[K     |███████████▎                    | 348kB 45.8MB/s eta 0:00:01\r\u001b[K     |███████████▋                    | 358kB 45.8MB/s eta 0:00:01\r\u001b[K     |████████████                    | 368kB 45.8MB/s eta 0:00:01\r\u001b[K     |████████████▎                   | 378kB 45.8MB/s eta 0:00:01\r\u001b[K     |████████████▋                   | 389kB 45.8MB/s eta 0:00:01\r\u001b[K     |█████████████                   | 399kB 45.8MB/s eta 0:00:01\r\u001b[K     |█████████████▎                  | 409kB 45.8MB/s eta 0:00:01\r\u001b[K     |█████████████▋                  | 419kB 45.8MB/s eta 0:00:01\r\u001b[K     |██████████████                  | 430kB 45.8MB/s eta 0:00:01\r\u001b[K     |██████████████▎                 | 440kB 45.8MB/s eta 0:00:01\r\u001b[K     |██████████████▋                 | 450kB 45.8MB/s eta 0:00:01\r\u001b[K     |███████████████                 | 460kB 45.8MB/s eta 0:00:01\r\u001b[K     |███████████████▎                | 471kB 45.8MB/s eta 0:00:01\r\u001b[K     |███████████████▋                | 481kB 45.8MB/s eta 0:00:01\r\u001b[K     |████████████████                | 491kB 45.8MB/s eta 0:00:01\r\u001b[K     |████████████████▎               | 501kB 45.8MB/s eta 0:00:01\r\u001b[K     |████████████████▋               | 512kB 45.8MB/s eta 0:00:01\r\u001b[K     |█████████████████               | 522kB 45.8MB/s eta 0:00:01\r\u001b[K     |█████████████████▎              | 532kB 45.8MB/s eta 0:00:01\r\u001b[K     |█████████████████▋              | 542kB 45.8MB/s eta 0:00:01\r\u001b[K     |██████████████████              | 552kB 45.8MB/s eta 0:00:01\r\u001b[K     |██████████████████▎             | 563kB 45.8MB/s eta 0:00:01\r\u001b[K     |██████████████████▋             | 573kB 45.8MB/s eta 0:00:01\r\u001b[K     |███████████████████             | 583kB 45.8MB/s eta 0:00:01\r\u001b[K     |███████████████████▎            | 593kB 45.8MB/s eta 0:00:01\r\u001b[K     |███████████████████▋            | 604kB 45.8MB/s eta 0:00:01\r\u001b[K     |████████████████████            | 614kB 45.8MB/s eta 0:00:01\r\u001b[K     |████████████████████▎           | 624kB 45.8MB/s eta 0:00:01\r\u001b[K     |████████████████████▋           | 634kB 45.8MB/s eta 0:00:01\r\u001b[K     |█████████████████████           | 645kB 45.8MB/s eta 0:00:01\r\u001b[K     |█████████████████████▎          | 655kB 45.8MB/s eta 0:00:01\r\u001b[K     |█████████████████████▋          | 665kB 45.8MB/s eta 0:00:01\r\u001b[K     |██████████████████████          | 675kB 45.8MB/s eta 0:00:01\r\u001b[K     |██████████████████████▎         | 686kB 45.8MB/s eta 0:00:01\r\u001b[K     |██████████████████████▋         | 696kB 45.8MB/s eta 0:00:01\r\u001b[K     |███████████████████████         | 706kB 45.8MB/s eta 0:00:01\r\u001b[K     |███████████████████████▎        | 716kB 45.8MB/s eta 0:00:01\r\u001b[K     |███████████████████████▋        | 727kB 45.8MB/s eta 0:00:01\r\u001b[K     |████████████████████████        | 737kB 45.8MB/s eta 0:00:01\r\u001b[K     |████████████████████████▎       | 747kB 45.8MB/s eta 0:00:01\r\u001b[K     |████████████████████████▋       | 757kB 45.8MB/s eta 0:00:01\r\u001b[K     |████████████████████████▉       | 768kB 45.8MB/s eta 0:00:01\r\u001b[K     |█████████████████████████▏      | 778kB 45.8MB/s eta 0:00:01\r\u001b[K     |█████████████████████████▌      | 788kB 45.8MB/s eta 0:00:01\r\u001b[K     |█████████████████████████▉      | 798kB 45.8MB/s eta 0:00:01\r\u001b[K     |██████████████████████████▏     | 808kB 45.8MB/s eta 0:00:01\r\u001b[K     |██████████████████████████▌     | 819kB 45.8MB/s eta 0:00:01\r\u001b[K     |██████████████████████████▉     | 829kB 45.8MB/s eta 0:00:01\r\u001b[K     |███████████████████████████▏    | 839kB 45.8MB/s eta 0:00:01\r\u001b[K     |███████████████████████████▌    | 849kB 45.8MB/s eta 0:00:01\r\u001b[K     |███████████████████████████▉    | 860kB 45.8MB/s eta 0:00:01\r\u001b[K     |████████████████████████████▏   | 870kB 45.8MB/s eta 0:00:01\r\u001b[K     |████████████████████████████▌   | 880kB 45.8MB/s eta 0:00:01\r\u001b[K     |████████████████████████████▉   | 890kB 45.8MB/s eta 0:00:01\r\u001b[K     |█████████████████████████████▏  | 901kB 45.8MB/s eta 0:00:01\r\u001b[K     |█████████████████████████████▌  | 911kB 45.8MB/s eta 0:00:01\r\u001b[K     |█████████████████████████████▉  | 921kB 45.8MB/s eta 0:00:01\r\u001b[K     |██████████████████████████████▏ | 931kB 45.8MB/s eta 0:00:01\r\u001b[K     |██████████████████████████████▌ | 942kB 45.8MB/s eta 0:00:01\r\u001b[K     |██████████████████████████████▉ | 952kB 45.8MB/s eta 0:00:01\r\u001b[K     |███████████████████████████████▏| 962kB 45.8MB/s eta 0:00:01\r\u001b[K     |███████████████████████████████▌| 972kB 45.8MB/s eta 0:00:01\r\u001b[K     |███████████████████████████████▉| 983kB 45.8MB/s eta 0:00:01\r\u001b[K     |████████████████████████████████| 993kB 45.8MB/s \n",
            "\u001b[?25h  Building wheel for PyDrive (setup.py) ... \u001b[?25l\u001b[?25hdone\n"
          ],
          "name": "stdout"
        }
      ]
    },
    {
      "cell_type": "markdown",
      "metadata": {
        "id": "mX2PBnx88XNp",
        "colab_type": "text"
      },
      "source": [
        ""
      ]
    },
    {
      "cell_type": "code",
      "metadata": {
        "id": "ejn2g6UC8bHw",
        "colab_type": "code",
        "colab": {}
      },
      "source": [
        "link = \"https://drive.google.com/open?id=1oXxYBZszaUem3KRpDvMOUlJ4KqzZMGXM\""
      ],
      "execution_count": 0,
      "outputs": []
    },
    {
      "cell_type": "code",
      "metadata": {
        "id": "BX9WGfao9pBR",
        "colab_type": "code",
        "colab": {
          "base_uri": "https://localhost:8080/",
          "height": 34
        },
        "outputId": "1adcaa7c-b38a-4dac-f78b-8a9e0e310392"
      },
      "source": [
        "fluff, id = link.split('=')\n",
        "print (id)"
      ],
      "execution_count": 6,
      "outputs": [
        {
          "output_type": "stream",
          "text": [
            "1oXxYBZszaUem3KRpDvMOUlJ4KqzZMGXM\n"
          ],
          "name": "stdout"
        }
      ]
    },
    {
      "cell_type": "code",
      "metadata": {
        "id": "fdl63Qy_9yXE",
        "colab_type": "code",
        "colab": {}
      },
      "source": [
        "downloaded = drive.CreateFile({'id':id}) \n",
        "downloaded.GetContentFile('ner_dataset.csv')  \n",
        "data = pd.read_csv('ner_dataset.csv', encoding = \"latin1\")"
      ],
      "execution_count": 0,
      "outputs": []
    },
    {
      "cell_type": "code",
      "metadata": {
        "id": "oaJXQYzs-FOk",
        "colab_type": "code",
        "colab": {
          "base_uri": "https://localhost:8080/",
          "height": 204
        },
        "outputId": "df1d62ff-bc5f-4f20-8b92-63a41b4e0996"
      },
      "source": [
        "data = data.fillna(method = \"ffill\")\n",
        "print(data.tail(10))\n",
        "\n",
        "class SentenceGetter(object):\n",
        "\n",
        "    def __init__(self, data):\n",
        "        self.n_sent = 1\n",
        "        self.data = data\n",
        "        self.empty = False\n",
        "        agg_func = lambda s: [(w, p, t) for w, p, t in zip(s[\"Word\"].values.tolist(),\n",
        "                                                           s[\"POS\"].values.tolist(),\n",
        "                                                           s[\"Tag\"].values.tolist())]\n",
        "        self.grouped = self.data.groupby(\"Sentence #\").apply(agg_func)\n",
        "        self.sentences = [s for s in self.grouped]\n",
        "\n",
        "    def get_next(self):\n",
        "        try:\n",
        "            s = self.grouped[\"Sentence: {}\".format(self.n_sent)]\n",
        "            self.n_sent += 1\n",
        "            return s\n",
        "        except:\n",
        "            return None"
      ],
      "execution_count": 13,
      "outputs": [
        {
          "output_type": "stream",
          "text": [
            "              Sentence #       Word  POS    Tag\n",
            "1048565  Sentence: 47958     impact   NN      O\n",
            "1048566  Sentence: 47958          .    .      O\n",
            "1048567  Sentence: 47959     Indian   JJ  B-gpe\n",
            "1048568  Sentence: 47959     forces  NNS      O\n",
            "1048569  Sentence: 47959       said  VBD      O\n",
            "1048570  Sentence: 47959       they  PRP      O\n",
            "1048571  Sentence: 47959  responded  VBD      O\n",
            "1048572  Sentence: 47959         to   TO      O\n",
            "1048573  Sentence: 47959        the   DT      O\n",
            "1048574  Sentence: 47959     attack   NN      O\n"
          ],
          "name": "stdout"
        }
      ]
    },
    {
      "cell_type": "code",
      "metadata": {
        "id": "h0TLvKXS-QcR",
        "colab_type": "code",
        "colab": {
          "base_uri": "https://localhost:8080/",
          "height": 71
        },
        "outputId": "1d944ae3-79e2-4a46-8d59-b9f63e963cbb"
      },
      "source": [
        "getter = SentenceGetter(data)\n",
        "sentences = [\" \".join([s[0] for s in sent]) for sent in getter.sentences]\n",
        "print(sentences[0])\n",
        "labels = [[s[2] for s in sent] for sent in getter.sentences]\n",
        "print(labels[0])\n",
        "tags_vals = list(set(data[\"Tag\"].values))\n",
        "tag2idx = {t: i for i, t in enumerate(tags_vals)}\n"
      ],
      "execution_count": 14,
      "outputs": [
        {
          "output_type": "stream",
          "text": [
            "Thousands of demonstrators have marched through London to protest the war in Iraq and demand the withdrawal of British troops from that country .\n",
            "['O', 'O', 'O', 'O', 'O', 'O', 'B-geo', 'O', 'O', 'O', 'O', 'O', 'B-geo', 'O', 'O', 'O', 'O', 'O', 'B-gpe', 'O', 'O', 'O', 'O', 'O']\n"
          ],
          "name": "stdout"
        }
      ]
    },
    {
      "cell_type": "code",
      "metadata": {
        "id": "EcnggEfj-rkM",
        "colab_type": "code",
        "colab": {
          "base_uri": "https://localhost:8080/",
          "height": 309
        },
        "outputId": "e825a100-a6ec-4996-ed41-a1589fb85ff2"
      },
      "source": [
        "!pip install pytorch-pretrained-bert==0.4.0"
      ],
      "execution_count": 10,
      "outputs": [
        {
          "output_type": "stream",
          "text": [
            "Requirement already satisfied: pytorch-pretrained-bert==0.4.0 in /usr/local/lib/python3.6/dist-packages (0.4.0)\n",
            "Requirement already satisfied: torch>=0.4.1 in /usr/local/lib/python3.6/dist-packages (from pytorch-pretrained-bert==0.4.0) (1.1.0)\n",
            "Requirement already satisfied: requests in /usr/local/lib/python3.6/dist-packages (from pytorch-pretrained-bert==0.4.0) (2.21.0)\n",
            "Requirement already satisfied: boto3 in /usr/local/lib/python3.6/dist-packages (from pytorch-pretrained-bert==0.4.0) (1.9.180)\n",
            "Requirement already satisfied: numpy in /usr/local/lib/python3.6/dist-packages (from pytorch-pretrained-bert==0.4.0) (1.16.4)\n",
            "Requirement already satisfied: tqdm in /usr/local/lib/python3.6/dist-packages (from pytorch-pretrained-bert==0.4.0) (4.28.1)\n",
            "Requirement already satisfied: urllib3<1.25,>=1.21.1 in /usr/local/lib/python3.6/dist-packages (from requests->pytorch-pretrained-bert==0.4.0) (1.24.3)\n",
            "Requirement already satisfied: idna<2.9,>=2.5 in /usr/local/lib/python3.6/dist-packages (from requests->pytorch-pretrained-bert==0.4.0) (2.8)\n",
            "Requirement already satisfied: chardet<3.1.0,>=3.0.2 in /usr/local/lib/python3.6/dist-packages (from requests->pytorch-pretrained-bert==0.4.0) (3.0.4)\n",
            "Requirement already satisfied: certifi>=2017.4.17 in /usr/local/lib/python3.6/dist-packages (from requests->pytorch-pretrained-bert==0.4.0) (2019.6.16)\n",
            "Requirement already satisfied: jmespath<1.0.0,>=0.7.1 in /usr/local/lib/python3.6/dist-packages (from boto3->pytorch-pretrained-bert==0.4.0) (0.9.4)\n",
            "Requirement already satisfied: botocore<1.13.0,>=1.12.180 in /usr/local/lib/python3.6/dist-packages (from boto3->pytorch-pretrained-bert==0.4.0) (1.12.180)\n",
            "Requirement already satisfied: s3transfer<0.3.0,>=0.2.0 in /usr/local/lib/python3.6/dist-packages (from boto3->pytorch-pretrained-bert==0.4.0) (0.2.1)\n",
            "Requirement already satisfied: docutils>=0.10 in /usr/local/lib/python3.6/dist-packages (from botocore<1.13.0,>=1.12.180->boto3->pytorch-pretrained-bert==0.4.0) (0.14)\n",
            "Requirement already satisfied: python-dateutil<3.0.0,>=2.1; python_version >= \"2.7\" in /usr/local/lib/python3.6/dist-packages (from botocore<1.13.0,>=1.12.180->boto3->pytorch-pretrained-bert==0.4.0) (2.5.3)\n",
            "Requirement already satisfied: six>=1.5 in /usr/local/lib/python3.6/dist-packages (from python-dateutil<3.0.0,>=2.1; python_version >= \"2.7\"->botocore<1.13.0,>=1.12.180->boto3->pytorch-pretrained-bert==0.4.0) (1.12.0)\n"
          ],
          "name": "stdout"
        }
      ]
    },
    {
      "cell_type": "code",
      "metadata": {
        "id": "eCFk-hrs-bc3",
        "colab_type": "code",
        "colab": {
          "base_uri": "https://localhost:8080/",
          "height": 34
        },
        "outputId": "0f8dff86-5d0a-42b9-a103-bbfd105f45ef"
      },
      "source": [
        "import torch\n",
        "from torch.optim import Adam\n",
        "from torch.utils.data import TensorDataset, DataLoader, RandomSampler, SequentialSampler\n",
        "from keras.preprocessing.sequence import pad_sequences\n",
        "from sklearn.model_selection import train_test_split\n",
        "from pytorch_pretrained_bert import BertTokenizer, BertConfig\n",
        "from pytorch_pretrained_bert import BertForTokenClassification, BertAdam\n",
        "\n",
        "MAX_LEN = 75\n",
        "bs = 32\n",
        "\n",
        "device = torch.device(\"cuda\" if torch.cuda.is_available() else \"cpu\")\n",
        "n_gpu = torch.cuda.device_count()\n",
        "torch.cuda.get_device_name(0)"
      ],
      "execution_count": 15,
      "outputs": [
        {
          "output_type": "execute_result",
          "data": {
            "text/plain": [
              "'Tesla T4'"
            ]
          },
          "metadata": {
            "tags": []
          },
          "execution_count": 15
        }
      ]
    },
    {
      "cell_type": "code",
      "metadata": {
        "id": "_R7nlDibBswF",
        "colab_type": "code",
        "colab": {
          "base_uri": "https://localhost:8080/",
          "height": 309
        },
        "outputId": "30522e32-f69a-4957-c7ce-faf36799706b"
      },
      "source": [
        "!pip install seqeval"
      ],
      "execution_count": 18,
      "outputs": [
        {
          "output_type": "stream",
          "text": [
            "Collecting seqeval\n",
            "  Downloading https://files.pythonhosted.org/packages/34/91/068aca8d60ce56dd9ba4506850e876aba5e66a6f2f29aa223224b50df0de/seqeval-0.0.12.tar.gz\n",
            "Requirement already satisfied: numpy>=1.14.0 in /usr/local/lib/python3.6/dist-packages (from seqeval) (1.16.4)\n",
            "Requirement already satisfied: Keras>=2.2.4 in /usr/local/lib/python3.6/dist-packages (from seqeval) (2.2.4)\n",
            "Requirement already satisfied: h5py in /usr/local/lib/python3.6/dist-packages (from Keras>=2.2.4->seqeval) (2.8.0)\n",
            "Requirement already satisfied: keras-applications>=1.0.6 in /usr/local/lib/python3.6/dist-packages (from Keras>=2.2.4->seqeval) (1.0.8)\n",
            "Requirement already satisfied: six>=1.9.0 in /usr/local/lib/python3.6/dist-packages (from Keras>=2.2.4->seqeval) (1.12.0)\n",
            "Requirement already satisfied: scipy>=0.14 in /usr/local/lib/python3.6/dist-packages (from Keras>=2.2.4->seqeval) (1.3.0)\n",
            "Requirement already satisfied: pyyaml in /usr/local/lib/python3.6/dist-packages (from Keras>=2.2.4->seqeval) (3.13)\n",
            "Requirement already satisfied: keras-preprocessing>=1.0.5 in /usr/local/lib/python3.6/dist-packages (from Keras>=2.2.4->seqeval) (1.1.0)\n",
            "Building wheels for collected packages: seqeval\n",
            "  Building wheel for seqeval (setup.py) ... \u001b[?25l\u001b[?25hdone\n",
            "  Stored in directory: /root/.cache/pip/wheels/4f/32/0a/df3b340a82583566975377d65e724895b3fad101a3fb729f68\n",
            "Successfully built seqeval\n",
            "Installing collected packages: seqeval\n",
            "Successfully installed seqeval-0.0.12\n"
          ],
          "name": "stdout"
        }
      ]
    },
    {
      "cell_type": "code",
      "metadata": {
        "id": "B4HwbgxmAu6y",
        "colab_type": "code",
        "colab": {}
      },
      "source": [
        "#A pretrained Tokenizer...\n",
        "tokenizer = BertTokenizer.from_pretrained('bert-base-uncased', do_lower_case=True)\n",
        "tokenized_texts = [tokenizer.tokenize(sent) for sent in sentences]\n",
        "#print(tokenized_texts[0])\n",
        "\n",
        "input_ids = pad_sequences([tokenizer.convert_tokens_to_ids(txt) for txt in tokenized_texts],\n",
        "                          maxlen=MAX_LEN, dtype=\"long\", truncating=\"post\", padding=\"post\")\n",
        "tags = pad_sequences([[tag2idx.get(l) for l in lab] for lab in labels],\n",
        "                     maxlen=MAX_LEN, value=tag2idx[\"O\"], padding=\"post\",\n",
        "                     dtype=\"long\", truncating=\"post\")\n",
        "attention_masks = [[float(i>0) for i in ii] for ii in input_ids]\n",
        "tr_inputs, val_inputs, tr_tags, val_tags = train_test_split(input_ids, tags,\n",
        "                                                            random_state=2018, test_size=0.1)\n",
        "tr_masks, val_masks, _, _ = train_test_split(attention_masks, input_ids,\n",
        "                                             random_state=2018, test_size=0.1)\n",
        "tr_inputs = torch.tensor(tr_inputs)\n",
        "val_inputs = torch.tensor(val_inputs)\n",
        "tr_tags = torch.tensor(tr_tags)\n",
        "val_tags = torch.tensor(val_tags)\n",
        "tr_masks = torch.tensor(tr_masks)\n",
        "val_masks = torch.tensor(val_masks)\n",
        "train_data = TensorDataset(tr_inputs, tr_masks, tr_tags)\n",
        "train_sampler = RandomSampler(train_data)\n",
        "train_dataloader = DataLoader(train_data, sampler=train_sampler, batch_size=bs)\n",
        "\n",
        "valid_data = TensorDataset(val_inputs, val_masks, val_tags)\n",
        "valid_sampler = SequentialSampler(valid_data)\n",
        "valid_dataloader = DataLoader(valid_data, sampler=valid_sampler, batch_size=bs)\n",
        "\n",
        "model = BertForTokenClassification.from_pretrained(\"bert-base-uncased\", num_labels=len(tag2idx))\n",
        "# Model for GPU setting\n",
        "model.cuda()\n",
        "# Run model finetuning...\n",
        "FULL_FINETUNING = True\n",
        "if FULL_FINETUNING:\n",
        "    param_optimizer = list(model.named_parameters())\n",
        "    no_decay = ['bias', 'gamma', 'beta']\n",
        "    optimizer_grouped_parameters = [\n",
        "        {'params': [p for n, p in param_optimizer if not any(nd in n for nd in no_decay)],\n",
        "         'weight_decay_rate': 0.01},\n",
        "        {'params': [p for n, p in param_optimizer if any(nd in n for nd in no_decay)],\n",
        "         'weight_decay_rate': 0.0}\n",
        "    ]\n",
        "else:\n",
        "    param_optimizer = list(model.classifier.named_parameters())\n",
        "    optimizer_grouped_parameters = [{\"params\": [p for n, p in param_optimizer]}]\n",
        "optimizer = Adam(optimizer_grouped_parameters, lr=3e-5)\n",
        "\n",
        "# Finetune BERT\n",
        "from seqeval.metrics import f1_score\n",
        "\n",
        "def flat_accuracy(preds, labels):\n",
        "    pred_flat = np.argmax(preds, axis=2).flatten()\n",
        "    labels_flat = labels.flatten()\n",
        "    return np.sum(pred_flat == labels_flat) / len(labels_flat)"
      ],
      "execution_count": 0,
      "outputs": []
    },
    {
      "cell_type": "code",
      "metadata": {
        "id": "Cf7sWSV0CrOf",
        "colab_type": "code",
        "colab": {
          "base_uri": "https://localhost:8080/",
          "height": 238
        },
        "outputId": "f9b6ad05-2c8a-4243-9d41-82b4ddd678b1"
      },
      "source": [
        "epochs = 3\n",
        "max_grad_norm = 1.0\n",
        "\n",
        "for _ in trange(epochs, desc=\"Epoch\"):\n",
        "    # TRAIN loop\n",
        "    model.train()\n",
        "    tr_loss = 0\n",
        "    nb_tr_examples, nb_tr_steps = 0, 0\n",
        "    for step, batch in enumerate(train_dataloader):\n",
        "        # add batch to gpu\n",
        "        batch = tuple(t.to(device) for t in batch)\n",
        "        b_input_ids, b_input_mask, b_labels = batch\n",
        "        # forward pass\n",
        "        loss = model(b_input_ids, token_type_ids=None,\n",
        "                     attention_mask=b_input_mask, labels=b_labels)\n",
        "        # backward pass\n",
        "        loss.backward()\n",
        "        # track train loss\n",
        "        tr_loss += loss.item()\n",
        "        nb_tr_examples += b_input_ids.size(0)\n",
        "        nb_tr_steps += 1\n",
        "        # gradient clipping\n",
        "        torch.nn.utils.clip_grad_norm_(parameters=model.parameters(), max_norm=max_grad_norm)\n",
        "        # update parameters\n",
        "        optimizer.step()\n",
        "        model.zero_grad()\n",
        "    # print train loss per epoch\n",
        "    print(\"Train loss: {}\".format(tr_loss / nb_tr_steps))\n",
        "    # VALIDATION on validation set\n",
        "    model.eval()\n",
        "    eval_loss, eval_accuracy = 0, 0\n",
        "    nb_eval_steps, nb_eval_examples = 0, 0\n",
        "    predictions, true_labels = [], []\n",
        "    for batch in valid_dataloader:\n",
        "        batch = tuple(t.to(device) for t in batch)\n",
        "        b_input_ids, b_input_mask, b_labels = batch\n",
        "\n",
        "        with torch.no_grad():\n",
        "            tmp_eval_loss = model(b_input_ids, token_type_ids=None,\n",
        "                                  attention_mask=b_input_mask, labels=b_labels)\n",
        "            logits = model(b_input_ids, token_type_ids=None,\n",
        "                           attention_mask=b_input_mask)\n",
        "        logits = logits.detach().cpu().numpy()\n",
        "        label_ids = b_labels.to('cpu').numpy()\n",
        "        predictions.extend([list(p) for p in np.argmax(logits, axis=2)])\n",
        "        true_labels.append(label_ids)\n",
        "\n",
        "        tmp_eval_accuracy = flat_accuracy(logits, label_ids)\n",
        "\n",
        "        eval_loss += tmp_eval_loss.mean().item()\n",
        "        eval_accuracy += tmp_eval_accuracy\n",
        "\n",
        "        nb_eval_examples += b_input_ids.size(0)\n",
        "        nb_eval_steps += 1\n",
        "    eval_loss = eval_loss / nb_eval_steps\n",
        "    print(\"Validation loss: {}\".format(eval_loss))\n",
        "    print(\"Validation Accuracy: {}\".format(eval_accuracy / nb_eval_steps))\n",
        "    pred_tags = [tags_vals[p_i] for p in predictions for p_i in p]\n",
        "    valid_tags = [tags_vals[l_ii] for l in true_labels for l_i in l for l_ii in l_i]\n",
        "    print(\"F1-Score: {}\".format(f1_score(pred_tags, valid_tags)))"
      ],
      "execution_count": 24,
      "outputs": [
        {
          "output_type": "stream",
          "text": [
            "\rEpoch:   0%|          | 0/3 [00:00<?, ?it/s]"
          ],
          "name": "stderr"
        },
        {
          "output_type": "stream",
          "text": [
            "Train loss: 0.09967025233815122\n",
            "Validation loss: 0.054821764032046\n",
            "Validation Accuracy: 0.9827857142857142\n"
          ],
          "name": "stdout"
        },
        {
          "output_type": "stream",
          "text": [
            "\rEpoch:  33%|███▎      | 1/3 [12:45<25:30, 765.19s/it]"
          ],
          "name": "stderr"
        },
        {
          "output_type": "stream",
          "text": [
            "F1-Score: 0.7007265914179956\n",
            "Train loss: 0.04865183877455605\n",
            "Validation loss: 0.04853996959825357\n",
            "Validation Accuracy: 0.9836849206349213\n"
          ],
          "name": "stdout"
        },
        {
          "output_type": "stream",
          "text": [
            "\rEpoch:  67%|██████▋   | 2/3 [25:30<12:45, 765.13s/it]"
          ],
          "name": "stderr"
        },
        {
          "output_type": "stream",
          "text": [
            "F1-Score: 0.7197777578636079\n",
            "Train loss: 0.03777256026640369\n",
            "Validation loss: 0.046881310877700644\n",
            "Validation Accuracy: 0.9846638888888892\n"
          ],
          "name": "stdout"
        },
        {
          "output_type": "stream",
          "text": [
            "\rEpoch: 100%|██████████| 3/3 [38:15<00:00, 765.20s/it]"
          ],
          "name": "stderr"
        },
        {
          "output_type": "stream",
          "text": [
            "F1-Score: 0.7374370208105147\n"
          ],
          "name": "stdout"
        },
        {
          "output_type": "stream",
          "text": [
            "\n"
          ],
          "name": "stderr"
        }
      ]
    },
    {
      "cell_type": "code",
      "metadata": {
        "id": "ds61YaTPDtuJ",
        "colab_type": "code",
        "colab": {
          "base_uri": "https://localhost:8080/",
          "height": 68
        },
        "outputId": "63d2a493-4c08-43b0-fa22-0b34e52ef000"
      },
      "source": [
        "model.eval()\n",
        "predictions = []\n",
        "true_labels = []\n",
        "eval_loss, eval_accuracy = 0, 0\n",
        "nb_eval_steps, nb_eval_examples = 0, 0\n",
        "for batch in valid_dataloader:\n",
        "    batch = tuple(t.to(device) for t in batch)\n",
        "    b_input_ids, b_input_mask, b_labels = batch\n",
        "\n",
        "    with torch.no_grad():\n",
        "        tmp_eval_loss = model(b_input_ids, token_type_ids=None,\n",
        "                              attention_mask=b_input_mask, labels=b_labels)\n",
        "        logits = model(b_input_ids, token_type_ids=None,\n",
        "                       attention_mask=b_input_mask)\n",
        "        \n",
        "    logits = logits.detach().cpu().numpy()\n",
        "    predictions.extend([list(p) for p in np.argmax(logits, axis=2)])\n",
        "    label_ids = b_labels.to('cpu').numpy()\n",
        "    true_labels.append(label_ids)\n",
        "    tmp_eval_accuracy = flat_accuracy(logits, label_ids)\n",
        "\n",
        "    eval_loss += tmp_eval_loss.mean().item()\n",
        "    eval_accuracy += tmp_eval_accuracy\n",
        "\n",
        "    nb_eval_examples += b_input_ids.size(0)\n",
        "    nb_eval_steps += 1\n",
        "\n",
        "pred_tags = [[tags_vals[p_i] for p_i in p] for p in predictions]\n",
        "valid_tags = [[tags_vals[l_ii] for l_ii in l_i] for l in true_labels for l_i in l ]\n",
        "print(\"Validation loss: {}\".format(eval_loss/nb_eval_steps))\n",
        "print(\"Validation Accuracy: {}\".format(eval_accuracy/nb_eval_steps))\n",
        "print(\"Validation F1-Score: {}\".format(f1_score(pred_tags, valid_tags)))\n"
      ],
      "execution_count": 25,
      "outputs": [
        {
          "output_type": "stream",
          "text": [
            "Validation loss: 0.046881310877700644\n",
            "Validation Accuracy: 0.9846638888888892\n",
            "Validation F1-Score: 0.7374370208105147\n"
          ],
          "name": "stdout"
        }
      ]
    }
  ]
}